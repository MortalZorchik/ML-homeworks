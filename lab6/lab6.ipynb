{
 "cells": [
  {
   "cell_type": "markdown",
   "id": "56543801-feb1-4f08-b715-db475b3028dc",
   "metadata": {},
   "source": [
    "## **1. Загрузить любой набор данных с https://www.kaggle.com, подходящий к задачам классификации и регрессии (либо два набора - отдельно для каждой из задач).**"
   ]
  },
  {
   "cell_type": "code",
   "execution_count": 1,
   "id": "7d3e8d92-0009-4c2a-82e5-c2e4b8f7bf85",
   "metadata": {},
   "outputs": [],
   "source": [
    "import pandas as pd\n",
    "import numpy as np\n",
    "df = pd.read_csv('diabetes_prediction_dataset.csv')[:2000]\n",
    "df['gender'].replace(['Female','Male', 'Other'],[0,1, np.nan],inplace=True)\n",
    "df.drop(columns=['smoking_history'],inplace=True)\n",
    "df.dropna(inplace=True)\n",
    "vMin = df.min( axis = 0 )\n",
    "x = (df - vMin) / (df.max( axis = 0 ) - vMin)"
   ]
  },
  {
   "cell_type": "markdown",
   "id": "0e4d3231-3336-4571-81c0-f58e34056a02",
   "metadata": {},
   "source": [
    "## **2. Выполнить подбор параметров модели классификатора и регрессора (по выбору) с использованием GridSearchCV:**"
   ]
  },
  {
   "cell_type": "code",
   "execution_count": 2,
   "id": "9e573fcf-7227-498f-b4da-4899ca2aecb8",
   "metadata": {},
   "outputs": [
    {
     "name": "stdout",
     "output_type": "stream",
     "text": [
      "Наилучшие значения параметров: {'max_depth': 2, 'min_samples_leaf': 1, 'min_samples_split': 2}\n",
      "Наилучшее значение метрики: 0.9710000000000001\n"
     ]
    }
   ],
   "source": [
    "#1. Выбрать какую-нибудь модель классификатора (KNeighborsClassifier, DecisionTreeClassifier, Наивный Байес, LogisticRegression...):\n",
    "from sklearn.model_selection import GridSearchCV\n",
    "from sklearn.tree import DecisionTreeClassifier\n",
    "\n",
    "X =  np.array( x.iloc[:,:-1] )#.reshape(-1,11)\n",
    "Y =  np.array( x.iloc[:,-1] )\n",
    "\n",
    "dtc = DecisionTreeClassifier()\n",
    "\n",
    "#    1.1. Выбрать совокупность настраиваемых параметров и диапазоны их значений\n",
    "params = { 'max_depth': range (2, 20, 1),\n",
    "              'min_samples_leaf': range (1, 10),\n",
    "              'min_samples_split': range (2,10,2) }\n",
    "\n",
    "#    1.2. Реализовать поиск наилучших параметров с использованием GridSearchCV\n",
    "grid = GridSearchCV(dtc, params, cv = 5, n_jobs = -1)\n",
    "grid.fit(X, Y)\n",
    "#    1.3. Вывести наилучшие найденные значения параметров и соответствующую метрику качества классификации\n",
    "print(f\"Наилучшие значения параметров: {grid.best_params_}\")\n",
    "print(f\"Наилучшее значение метрики: {grid.best_score_}\")"
   ]
  },
  {
   "cell_type": "code",
   "execution_count": 3,
   "id": "5c8adcc8-db84-4cad-b2f8-2a595b246249",
   "metadata": {},
   "outputs": [
    {
     "name": "stdout",
     "output_type": "stream",
     "text": [
      "Наилучшие значения параметров: {'max_depth': 4, 'min_samples_leaf': 1, 'min_samples_split': 2}\n",
      "Наилучшее значение метрики: 0.6661628801450742\n"
     ]
    }
   ],
   "source": [
    "#2. Выбрать какую-нибудь модель регрессора (KNeighborsRegressor, DecisionTreeRegressor, LinearReegresion, ...):\n",
    "from sklearn.tree import DecisionTreeRegressor\n",
    "\n",
    "dtr = DecisionTreeRegressor()\n",
    "\n",
    "#    2.1. Выбрать совокупность настраиваемых параметров и диапазоны их значений\n",
    "params = { 'max_depth': range (2, 20, 1),\n",
    "              'min_samples_leaf': range (1, 10),\n",
    "              'min_samples_split': range (2,10,2) }\n",
    "\n",
    "#    2.2. Реализовать поиск наилучших параметров с использованием GridSearchCV\n",
    "grid = GridSearchCV(dtr, params, cv = 5, n_jobs = -1)\n",
    "grid.fit(X, Y)\n",
    "#    2.3. Вывести наилучшие найденные значения параметров и соответствующую метрику качества классификации\n",
    "print(f\"Наилучшие значения параметров: {grid.best_params_}\")\n",
    "print(f\"Наилучшее значение метрики: {grid.best_score_}\")"
   ]
  },
  {
   "cell_type": "markdown",
   "id": "f7f69e5d-f439-4a60-90ac-8c8c34b75c50",
   "metadata": {},
   "source": [
    "## **3. Решить задачу классификации с использованием случайного леса (RandomForestClassifier):**"
   ]
  },
  {
   "cell_type": "code",
   "execution_count": 4,
   "id": "09c9056a-4dcb-4f28-b8b1-e439aba796ae",
   "metadata": {},
   "outputs": [
    {
     "name": "stdout",
     "output_type": "stream",
     "text": [
      "Точность на обучающем наборе: 1.000\n",
      "Точность на тестовом наборе: 0.840\n"
     ]
    }
   ],
   "source": [
    "#1. С помощью GridSearchCV подобрать наилучшие параметры случайного леса для задачи классификации \n",
    "from sklearn.ensemble import RandomForestClassifier\n",
    "from sklearn.model_selection import train_test_split\n",
    "from sklearn.metrics import accuracy_score, confusion_matrix, ConfusionMatrixDisplay, roc_auc_score, roc_curve\n",
    "\n",
    "X_train, X_test, y_train, y_test = train_test_split(X[:100], Y[:100], train_size = 0.75)\n",
    "\n",
    "forest = RandomForestClassifier(n_estimators = 5)\n",
    "forest.fit(X_train, y_train)\n",
    "\n",
    "print(\"Точность на обучающем наборе: {:.3f}\".format(forest.score(X_train, y_train)))\n",
    "print(\"Точность на тестовом наборе: {:.3f}\".format(forest.score(X_test, y_test)))\n"
   ]
  },
  {
   "cell_type": "code",
   "execution_count": 5,
   "id": "e9c1aa78-d3a8-434b-96ff-ee1f3e549354",
   "metadata": {},
   "outputs": [
    {
     "name": "stdout",
     "output_type": "stream",
     "text": [
      "Наилучшие значения параметров: {'max_depth': 16, 'min_samples_leaf': 1, 'min_samples_split': 6, 'n_estimators': 3}\n",
      "Наилучшее значение метрики: 0.96\n"
     ]
    }
   ],
   "source": [
    "params = {  \"n_estimators\": range(3,20),\n",
    "            'max_depth': range (2, 20, 1),\n",
    "            'min_samples_leaf': range (1, 10),\n",
    "            'min_samples_split': range (2,10,2) }\n",
    "\n",
    "gridRf = GridSearchCV(forest, params, cv = 5, n_jobs = -1)\n",
    "gridRf.fit(X_train, y_train)\n",
    "\n",
    "print(f\"Наилучшие значения параметров: {gridRf.best_params_}\")\n",
    "print(f\"Наилучшее значение метрики: {gridRf.best_score_}\")"
   ]
  },
  {
   "cell_type": "code",
   "execution_count": 6,
   "id": "66af737e-2abc-4342-97ac-ae4908773e2e",
   "metadata": {},
   "outputs": [
    {
     "data": {
      "image/png": "[encoded data removed]",
      "text/plain": [
       "<Figure size 640x480 with 2 Axes>"
      ]
     },
     "metadata": {},
     "output_type": "display_data"
    },
    {
     "data": {
      "image/png": "[encoded data removed]",
      "text/plain": [
       "<Figure size 640x480 with 1 Axes>"
      ]
     },
     "metadata": {},
     "output_type": "display_data"
    }
   ],
   "source": [
    "#2. С полученными параметрами вычислить метрики качества классификации (Confusion Matrix, ROC + AUC)\n",
    "import matplotlib.pyplot as plt\n",
    "y_test_predict = gridRf.predict(X_test)\n",
    "y_test_prob = gridRf.predict_proba(X_test)[:,1]\n",
    "\n",
    "confMatr = confusion_matrix(y_test, y_test_predict)\n",
    "cmPlt = ConfusionMatrixDisplay(confusion_matrix = confMatr)\n",
    "cmPlt.plot()\n",
    "plt.show()\n",
    "\n",
    "auc = roc_auc_score( y_test, y_test_predict )\n",
    "fpr, tpr, thresholds = roc_curve(y_test, y_test_prob)\n",
    "plt.plot(fpr, tpr, label = \"AUC=\" + str(auc))\n",
    "plt.xlabel(\"False Positive\")\n",
    "plt.ylabel(\"True Positive\")\n",
    "plt.legend()\n",
    "plt.show()"
   ]
  },
  {
   "cell_type": "markdown",
   "id": "0363b129-4cbe-4d7f-872a-c6a58760cee1",
   "metadata": {},
   "source": [
    "## **4. Реализовать ансамбли моделей для задачи классификации и регрессии**"
   ]
  },
  {
   "cell_type": "code",
   "execution_count": 7,
   "id": "0fea15e1-a72b-4703-92f7-cbb576bd7440",
   "metadata": {},
   "outputs": [],
   "source": [
    "#1. Реализовать бэггинг BaggingClassifier на базе любой модели классификации\n",
    "from sklearn.ensemble import BaggingClassifier\n",
    "from sklearn.neighbors import KNeighborsClassifier\n",
    "from sklearn.datasets import make_classification\n",
    "from sklearn.model_selection import train_test_split\n",
    "from sklearn.metrics import accuracy_score, precision_score, recall_score, f1_score\n",
    "\n",
    "\n",
    "# разделяем данные на обучающие и тестовые наборы\n",
    "X_train, X_test, y_train, y_test = train_test_split( X, Y, test_size = 0.2 )\n",
    "\n",
    "# создаем базовый алгоритм KNeighborsClassifier\n",
    "base_model = KNeighborsClassifier()\n",
    "\n",
    "# создаем ансамбль на основе базового алгоритма с использованием бэггинга\n",
    "bagging_model = BaggingClassifier( estimator = base_model, n_estimators = 10, random_state = 42 )\n",
    "\n",
    "# обучаем модель на обучающих данных\n",
    "bagging_model.fit( X_train, y_train )\n",
    "\n",
    "# делаем предсказания на тестовых данных\n",
    "y_pred = bagging_model.predict( X_test )"
   ]
  },
  {
   "cell_type": "code",
   "execution_count": 8,
   "id": "281f76bb-7328-4390-965d-faf8368eb252",
   "metadata": {},
   "outputs": [
    {
     "name": "stdout",
     "output_type": "stream",
     "text": [
      "Accuracy: 0.9575\n",
      "Precision: 0.9565217391304348\n",
      "Recall: 0.5789473684210527\n",
      "F1 Score: 0.721311475409836\n"
     ]
    }
   ],
   "source": [
    "# Вычислите метрики качества модели\n",
    "accuracy = accuracy_score(y_test, y_pred)\n",
    "precision = precision_score(y_test, y_pred)\n",
    "recall = recall_score(y_test, y_pred)\n",
    "f1 = f1_score(y_test, y_pred)\n",
    "\n",
    "# Выведите метрики качества модели\n",
    "print(\"Accuracy:\", accuracy)\n",
    "print(\"Precision:\", precision)\n",
    "print(\"Recall:\", recall)\n",
    "print(\"F1 Score:\", f1)"
   ]
  },
  {
   "cell_type": "code",
   "execution_count": 9,
   "id": "d7b9ac7b-2245-4906-9c1f-3205370e139b",
   "metadata": {},
   "outputs": [],
   "source": [
    "#2. Реализовать бэггинг для задачи регрессии BaggingRegressor для любой модели регрессии\n",
    "from sklearn.ensemble import BaggingRegressor\n",
    "from sklearn.neighbors import KNeighborsClassifier\n",
    "from sklearn.datasets import make_classification\n",
    "from sklearn.model_selection import train_test_split\n",
    "\n",
    "# разделяем данные на обучающие и тестовые наборы\n",
    "X_train, X_test, y_train, y_test = train_test_split( X, Y, test_size = 0.2 )\n",
    "\n",
    "bagging_model = BaggingRegressor(estimator=base_model, n_estimators=5)\n",
    "\n",
    "# обучаем модель на обучающих данных\n",
    "bagging_model.fit( X_train, y_train )\n",
    "\n",
    "# делаем предсказания на тестовых данных\n",
    "y_pred = bagging_model.predict( X_test )"
   ]
  },
  {
   "cell_type": "code",
   "execution_count": 10,
   "id": "19816152-a59a-4c5b-bc81-18ec3c7e8e50",
   "metadata": {},
   "outputs": [
    {
     "name": "stdout",
     "output_type": "stream",
     "text": [
      "Mean Squared Error (MSE): 0.04710000000000001\n",
      "Mean Absolute Error (MAE): 0.0625\n",
      "Coefficient of Determination (R^2): 0.5457778313543487\n"
     ]
    }
   ],
   "source": [
    "from sklearn.metrics import mean_squared_error, mean_absolute_error, r2_score\n",
    "# Вычислите метрики качества модели\n",
    "mse = mean_squared_error(y_test, y_pred)\n",
    "mae = mean_absolute_error(y_test, y_pred)\n",
    "r2 = r2_score(y_test, y_pred)\n",
    "\n",
    "# Выведите метрики качества модели\n",
    "print(\"Mean Squared Error (MSE):\", mse)\n",
    "print(\"Mean Absolute Error (MAE):\", mae)\n",
    "print(\"Coefficient of Determination (R^2):\", r2)"
   ]
  },
  {
   "cell_type": "code",
   "execution_count": 11,
   "id": "bf667c02-7692-42e7-b019-7bd05d2fa27d",
   "metadata": {},
   "outputs": [],
   "source": [
    "#3. Реализовать меод градиентного бустинга GradiendBoostingClassifier на базе любой модели классификации \n",
    "from sklearn.ensemble import GradientBoostingClassifier\n",
    "from sklearn.tree import DecisionTreeClassifier\n",
    "from sklearn.datasets import make_classification\n",
    "from sklearn.model_selection import train_test_split\n",
    "\n",
    "# разделяем данные на обучающие и тестовые наборы\n",
    "X_train, X_test, y_train, y_test = train_test_split( X, Y, test_size = 0.2 )\n",
    "\n",
    "# создаем базовый алгоритм DecisionTreeClassifier\n",
    "base_model = DecisionTreeClassifier()\n",
    "\n",
    "boosting_model = GradientBoostingClassifier(n_estimators = 10, random_state = 42  )\n",
    "\n",
    "# обучаем модель на обучающих данных\n",
    "boosting_model.fit( X_train, y_train )\n",
    "\n",
    "# делаем предсказания на тестовых данных\n",
    "y_pred = boosting_model.predict( X_test )"
   ]
  },
  {
   "cell_type": "code",
   "execution_count": 12,
   "id": "63fb19c8-2733-4ffc-aa7a-668354941cce",
   "metadata": {},
   "outputs": [
    {
     "name": "stdout",
     "output_type": "stream",
     "text": [
      "Accuracy: 0.985\n",
      "Precision: 1.0\n",
      "Recall: 0.7857142857142857\n",
      "F1 Score: 0.88\n"
     ]
    }
   ],
   "source": [
    "from sklearn.metrics import accuracy_score, precision_score, recall_score, f1_score\n",
    "#вычисляем метрики качества модели, такие как точность (accuracy), точность (precision), полноту (recall) и F1-меру (F1 score), чтобы оценить производительность модели.\n",
    "accuracy = accuracy_score(y_test, y_pred)\n",
    "precision = precision_score(y_test, y_pred)\n",
    "recall = recall_score(y_test, y_pred)\n",
    "f1 = f1_score(y_test, y_pred)\n",
    "\n",
    "print(\"Accuracy:\", accuracy)\n",
    "print(\"Precision:\", precision)\n",
    "print(\"Recall:\", recall)\n",
    "print(\"F1 Score:\", f1)"
   ]
  },
  {
   "cell_type": "code",
   "execution_count": 13,
   "id": "c814238f-65f2-4dcb-ba6a-25a2b758deac",
   "metadata": {},
   "outputs": [],
   "source": [
    "#4. Реализовать меод градиентного бустинга GradiendBoostingRegressor на базе любой модели регрессии \n",
    "from sklearn.ensemble import GradientBoostingRegressor\n",
    "from sklearn.neighbors import KNeighborsClassifier\n",
    "from sklearn.datasets import make_classification\n",
    "from sklearn.model_selection import train_test_split\n",
    "\n",
    "# разделяем данные на обучающие и тестовые наборы\n",
    "X_train, X_test, y_train, y_test = train_test_split( X, Y, test_size = 0.2 )\n",
    "\n",
    "boosting_model = GradientBoostingRegressor(n_estimators=100)\n",
    "\n",
    "# обучаем модель на обучающих данных\n",
    "boosting_model.fit( X_train, y_train )\n",
    "\n",
    "# делаем предсказания на тестовых данных\n",
    "y_pred = boosting_model.predict( X_test )"
   ]
  },
  {
   "cell_type": "code",
   "execution_count": 14,
   "id": "27d65633-6811-40ee-9bb7-0e8be87a0d8a",
   "metadata": {},
   "outputs": [
    {
     "name": "stdout",
     "output_type": "stream",
     "text": [
      "Mean Squared Error (MSE): 0.02419066609272379\n",
      "Mean Absolute Error (MAE): 0.05404323861399711\n",
      "Coefficient of Determination (R^2): 0.6889660418807613\n"
     ]
    }
   ],
   "source": [
    "mse = mean_squared_error(y_test, y_pred)\n",
    "mae = mean_absolute_error(y_test, y_pred)\n",
    "r2 = r2_score(y_test, y_pred)\n",
    "\n",
    "# Выведите метрики качества модели\n",
    "print(\"Mean Squared Error (MSE):\", mse)\n",
    "print(\"Mean Absolute Error (MAE):\", mae)\n",
    "print(\"Coefficient of Determination (R^2):\", r2)"
   ]
  },
  {
   "cell_type": "code",
   "execution_count": null,
   "id": "59b90453-a8f5-4048-982a-e870bb1bf83c",
   "metadata": {},
   "outputs": [],
   "source": []
  }
 ],
 "metadata": {
  "kernelspec": {
   "display_name": "Python 3 (ipykernel)",
   "language": "python",
   "name": "python3"
  },
  "language_info": {
   "codemirror_mode": {
    "name": "ipython",
    "version": 3
   },
   "file_extension": ".py",
   "mimetype": "text/x-python",
   "name": "python",
   "nbconvert_exporter": "python",
   "pygments_lexer": "ipython3",
   "version": "3.10.10"
  }
 },
 "nbformat": 4,
 "nbformat_minor": 5
}
